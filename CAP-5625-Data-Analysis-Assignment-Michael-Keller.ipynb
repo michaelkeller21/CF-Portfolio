{
 "cells": [
  {
   "cell_type": "markdown",
   "metadata": {},
   "source": [
    "# Deliverable 6"
   ]
  },
  {
   "cell_type": "markdown",
   "metadata": {},
   "source": [
    "Press Shift-Enter to execute all code."
   ]
  },
  {
   "cell_type": "markdown",
   "metadata": {},
   "source": [
    "# Introduction"
   ]
  },
  {
   "cell_type": "markdown",
   "metadata": {},
   "source": [
    "In this notebook we will use logistic regression to fit a classification model that predicts an individual's ancestry based on a set of their genetic data with 10 prinicipal components. We will manually implement logistic regression to accomplish this as well as use existing libraries."
   ]
  },
  {
   "cell_type": "markdown",
   "metadata": {},
   "source": [
    "First we import the relevant libraries:"
   ]
  },
  {
   "cell_type": "code",
   "execution_count": 1,
   "metadata": {},
   "outputs": [],
   "source": [
    "import numpy as np\n",
    "import pandas as pd\n",
    "import matplotlib.pyplot as plt\n",
    "from tqdm.notebook import tqdm"
   ]
  },
  {
   "cell_type": "markdown",
   "metadata": {},
   "source": [
    "Next we read our dataset into a Pandas dataframe:"
   ]
  },
  {
   "cell_type": "code",
   "execution_count": 2,
   "metadata": {},
   "outputs": [],
   "source": [
    "data=pd.read_csv('TrainingData_N183_p10.csv')"
   ]
  },
  {
   "cell_type": "markdown",
   "metadata": {},
   "source": [
    "Next we separate out our features for training from our response (ground truth) vector:"
   ]
  },
  {
   "cell_type": "code",
   "execution_count": 3,
   "metadata": {},
   "outputs": [],
   "source": [
    "components=data.drop(['Ancestry'], axis=1)\n",
    "y=data['Ancestry']"
   ]
  },
  {
   "cell_type": "markdown",
   "metadata": {},
   "source": [
    "Next we standardize our features with the following function:"
   ]
  },
  {
   "cell_type": "code",
   "execution_count": 2,
   "metadata": {},
   "outputs": [],
   "source": [
    "def standardize(data):\n",
    "    for col_name in data.columns:\n",
    "        data[col_name]-=np.mean(data[col_name])\n",
    "        data[col_name]/=np.std(data[col_name])    \n",
    "    return data"
   ]
  },
  {
   "cell_type": "code",
   "execution_count": 5,
   "metadata": {},
   "outputs": [],
   "source": [
    "components=standardize(components)\n",
    "components=np.array(components)"
   ]
  },
  {
   "cell_type": "markdown",
   "metadata": {},
   "source": [
    "Then we one-hot encode our response vector:"
   ]
  },
  {
   "cell_type": "code",
   "execution_count": 6,
   "metadata": {},
   "outputs": [],
   "source": [
    "y=y.astype('category')\n",
    "y=pd.get_dummies(y)\n",
    "Y=np.array(y)"
   ]
  },
  {
   "cell_type": "markdown",
   "metadata": {},
   "source": [
    "Next we define our logistic regression function:"
   ]
  },
  {
   "cell_type": "code",
   "execution_count": 3,
   "metadata": {},
   "outputs": [],
   "source": [
    "def logistic_regression(train_data, Y, lamb, alpha=1e-5, iterations=10000):\n",
    "    augment=np.empty((len(train_data), 1))\n",
    "\n",
    "    for i in range(len(train_data)):\n",
    "        augment[i][0]=1\n",
    "\n",
    "    X=np.hstack((augment, train_data))\n",
    "    \n",
    "    B=np.zeros((11, 5))    \n",
    "    \n",
    "    for i in tqdm(range(iterations)):                \n",
    "        XB=np.dot(X, B)    \n",
    "        U=np.exp(XB)\n",
    "        \n",
    "        P=np.empty((len(train_data), 5))\n",
    "        \n",
    "        for j in range(len(P)):\n",
    "            for k in range(5):\n",
    "                P[j][k]=U[j][k]\n",
    "                P[j][k]/=np.sum(U, axis=1)[j]\n",
    "        \n",
    "        Z_top=B[0, :]\n",
    "        Z_bottom=np.zeros((10, 5))\n",
    "        Z=np.vstack((Z_top, Z_bottom))\n",
    "                \n",
    "        B_minus_Z=np.subtract(B, Z)\n",
    "        two_lambda_B_minus_Z=np.multiply(2*lamb, B_minus_Z)\n",
    "        Y_minus_P=np.subtract(Y, P)\n",
    "        X_T=np.transpose(X)\n",
    "        X_T_Y_minus_P=np.dot(X_T, Y_minus_P)\n",
    "        B_update=np.subtract(X_T_Y_minus_P, two_lambda_B_minus_Z)\n",
    "        B_update_scaled=np.multiply(alpha, B_update)\n",
    "        new_B=np.add(B, B_update_scaled)\n",
    "        B=new_B\n",
    "    B_hat=B\n",
    "    return B_hat"
   ]
  },
  {
   "cell_type": "markdown",
   "metadata": {},
   "source": [
    "# Deliverable 1"
   ]
  },
  {
   "cell_type": "markdown",
   "metadata": {},
   "source": [
    "Illustrate the effect of the tuning parameter on the inferred ridge regression coefficients by generating five plots (one for each of the 𝐾=5 ancestry classes) of 10 lines (one for each of the 𝑝=10 features), with the 𝑦-axis as 𝛽̂ 𝑗𝑘, 𝑗=1,2,…,10 for the graph of class 𝑘, and 𝑥-axis the corresponding log-scaled tuning parameter value log10(𝜆) that generated the particular 𝛽̂\n",
    "𝑗𝑘. Label both axes. Without the log scaling of the tuning parameter, the plot will look distorted."
   ]
  },
  {
   "cell_type": "code",
   "execution_count": 8,
   "metadata": {},
   "outputs": [
    {
     "data": {
      "application/vnd.jupyter.widget-view+json": {
       "model_id": "9901ddef7d7148a09cd471a65fbc5e3b",
       "version_major": 2,
       "version_minor": 0
      },
      "text/plain": [
       "HBox(children=(FloatProgress(value=0.0, max=9.0), HTML(value='')))"
      ]
     },
     "metadata": {},
     "output_type": "display_data"
    },
    {
     "data": {
      "application/vnd.jupyter.widget-view+json": {
       "model_id": "c2554d2c139545e893b23bf5b891c436",
       "version_major": 2,
       "version_minor": 0
      },
      "text/plain": [
       "HBox(children=(FloatProgress(value=0.0, max=10000.0), HTML(value='')))"
      ]
     },
     "metadata": {},
     "output_type": "display_data"
    },
    {
     "name": "stdout",
     "output_type": "stream",
     "text": [
      "\n"
     ]
    },
    {
     "data": {
      "application/vnd.jupyter.widget-view+json": {
       "model_id": "27cb51331135429294e68ff43c603da7",
       "version_major": 2,
       "version_minor": 0
      },
      "text/plain": [
       "HBox(children=(FloatProgress(value=0.0, max=10000.0), HTML(value='')))"
      ]
     },
     "metadata": {},
     "output_type": "display_data"
    },
    {
     "name": "stdout",
     "output_type": "stream",
     "text": [
      "\n"
     ]
    },
    {
     "data": {
      "application/vnd.jupyter.widget-view+json": {
       "model_id": "4385e1f3755e4a8b86b6befe8c2862f7",
       "version_major": 2,
       "version_minor": 0
      },
      "text/plain": [
       "HBox(children=(FloatProgress(value=0.0, max=10000.0), HTML(value='')))"
      ]
     },
     "metadata": {},
     "output_type": "display_data"
    },
    {
     "name": "stdout",
     "output_type": "stream",
     "text": [
      "\n"
     ]
    },
    {
     "data": {
      "application/vnd.jupyter.widget-view+json": {
       "model_id": "73d1d2b0101b4abcaa669989662340e1",
       "version_major": 2,
       "version_minor": 0
      },
      "text/plain": [
       "HBox(children=(FloatProgress(value=0.0, max=10000.0), HTML(value='')))"
      ]
     },
     "metadata": {},
     "output_type": "display_data"
    },
    {
     "name": "stdout",
     "output_type": "stream",
     "text": [
      "\n"
     ]
    },
    {
     "data": {
      "application/vnd.jupyter.widget-view+json": {
       "model_id": "bb96727b232f47f3907208aecdb0738e",
       "version_major": 2,
       "version_minor": 0
      },
      "text/plain": [
       "HBox(children=(FloatProgress(value=0.0, max=10000.0), HTML(value='')))"
      ]
     },
     "metadata": {},
     "output_type": "display_data"
    },
    {
     "name": "stdout",
     "output_type": "stream",
     "text": [
      "\n"
     ]
    },
    {
     "data": {
      "application/vnd.jupyter.widget-view+json": {
       "model_id": "506942594c164c75b0cde21abff48b01",
       "version_major": 2,
       "version_minor": 0
      },
      "text/plain": [
       "HBox(children=(FloatProgress(value=0.0, max=10000.0), HTML(value='')))"
      ]
     },
     "metadata": {},
     "output_type": "display_data"
    },
    {
     "name": "stdout",
     "output_type": "stream",
     "text": [
      "\n"
     ]
    },
    {
     "data": {
      "application/vnd.jupyter.widget-view+json": {
       "model_id": "9ebd91910eed4d5d8057fcb4d69d684f",
       "version_major": 2,
       "version_minor": 0
      },
      "text/plain": [
       "HBox(children=(FloatProgress(value=0.0, max=10000.0), HTML(value='')))"
      ]
     },
     "metadata": {},
     "output_type": "display_data"
    },
    {
     "name": "stdout",
     "output_type": "stream",
     "text": [
      "\n"
     ]
    },
    {
     "data": {
      "application/vnd.jupyter.widget-view+json": {
       "model_id": "5eb09ea38e3b4914934d9c9076f29ef7",
       "version_major": 2,
       "version_minor": 0
      },
      "text/plain": [
       "HBox(children=(FloatProgress(value=0.0, max=10000.0), HTML(value='')))"
      ]
     },
     "metadata": {},
     "output_type": "display_data"
    },
    {
     "name": "stdout",
     "output_type": "stream",
     "text": [
      "\n"
     ]
    },
    {
     "data": {
      "application/vnd.jupyter.widget-view+json": {
       "model_id": "9092b1aabdb64aa197820fe03717869f",
       "version_major": 2,
       "version_minor": 0
      },
      "text/plain": [
       "HBox(children=(FloatProgress(value=0.0, max=10000.0), HTML(value='')))"
      ]
     },
     "metadata": {},
     "output_type": "display_data"
    },
    {
     "name": "stdout",
     "output_type": "stream",
     "text": [
      "\n",
      "\n"
     ]
    }
   ],
   "source": [
    "lambdas=[1e-4, 1e-3, 1e-2, 1e-1, 1e0, 1e1, 1e2, 1e3, 1e4]\n",
    "B_list=[]\n",
    "\n",
    "for lamb in tqdm(lambdas):\n",
    "    B_biased=logistic_regression(components, Y, lamb)\n",
    "    B_1=B_biased[1:, 0]\n",
    "    B_list.append(B_1)\n",
    "    B_2=B_biased[1:, 1]\n",
    "    B_list.append(B_2)\n",
    "    B_3=B_biased[1:, 2]\n",
    "    B_list.append(B_3)\n",
    "    B_4=B_biased[1:, 3]\n",
    "    B_list.append(B_4)\n",
    "    B_5=B_biased[1:, 4]\n",
    "    B_list.append(B_5)"
   ]
  },
  {
   "cell_type": "code",
   "execution_count": 9,
   "metadata": {},
   "outputs": [
    {
     "data": {
      "image/png": "[encoded data removed]",
      "text/plain": [
       "<Figure size 432x288 with 1 Axes>"
      ]
     },
     "metadata": {
      "needs_background": "light"
     },
     "output_type": "display_data"
    }
   ],
   "source": [
    "Bs=pd.DataFrame([B_list[0], B_list[5], B_list[10], B_list[15], B_list[20], B_list[25], B_list[30], B_list[35], B_list[40]])\n",
    "Bs.index=lambdas\n",
    "Bs.columns=['PC1', 'PC2', 'PC3', 'PC4', 'PC5', 'PC6', 'PC7', 'PC8', 'PC9', 'PC10']\n",
    "Bs.plot()\n",
    "plt.title('African PC Values')\n",
    "plt.xscale('log')\n",
    "plt.xlabel('Lambda')\n",
    "plt.ylabel('Parameter Value')\n",
    "plt.legend(loc='lower left')\n",
    "plt.show()"
   ]
  },
  {
   "cell_type": "code",
   "execution_count": 10,
   "metadata": {},
   "outputs": [
    {
     "data": {
      "image/png": "[encoded data removed]",
      "text/plain": [
       "<Figure size 432x288 with 1 Axes>"
      ]
     },
     "metadata": {
      "needs_background": "light"
     },
     "output_type": "display_data"
    }
   ],
   "source": [
    "Bs=pd.DataFrame([B_list[1], B_list[6], B_list[11], B_list[16], B_list[21], B_list[26], B_list[31], B_list[36], B_list[41]])\n",
    "Bs.index=lambdas\n",
    "Bs.columns=['PC1', 'PC2', 'PC3', 'PC4', 'PC5', 'PC6', 'PC7', 'PC8', 'PC9', 'PC10']\n",
    "Bs.plot()\n",
    "plt.title('East Asian PC Values')\n",
    "plt.xscale('log')\n",
    "plt.xlabel('Lambda')\n",
    "plt.ylabel('Parameter Value')\n",
    "plt.legend(loc='lower left')\n",
    "plt.show()"
   ]
  },
  {
   "cell_type": "code",
   "execution_count": 11,
   "metadata": {},
   "outputs": [
    {
     "data": {
      "image/png": "[encoded data removed]",
      "text/plain": [
       "<Figure size 432x288 with 1 Axes>"
      ]
     },
     "metadata": {
      "needs_background": "light"
     },
     "output_type": "display_data"
    }
   ],
   "source": [
    "Bs=pd.DataFrame([B_list[2], B_list[7], B_list[12], B_list[17], B_list[22], B_list[27], B_list[32], B_list[37], B_list[42]])\n",
    "Bs.index=lambdas\n",
    "Bs.columns=['PC1', 'PC2', 'PC3', 'PC4', 'PC5', 'PC6', 'PC7', 'PC8', 'PC9', 'PC10']\n",
    "Bs.plot()\n",
    "plt.title('European PC Values')\n",
    "plt.xscale('log')\n",
    "plt.xlabel('Lambda')\n",
    "plt.ylabel('Parameter Value')\n",
    "plt.legend(loc='lower left')\n",
    "plt.show()"
   ]
  },
  {
   "cell_type": "code",
   "execution_count": 12,
   "metadata": {},
   "outputs": [
    {
     "data": {
      "image/png": "[encoded data removed]",
      "text/plain": [
       "<Figure size 432x288 with 1 Axes>"
      ]
     },
     "metadata": {
      "needs_background": "light"
     },
     "output_type": "display_data"
    }
   ],
   "source": [
    "Bs=pd.DataFrame([B_list[3], B_list[8], B_list[13], B_list[18], B_list[23], B_list[28], B_list[33], B_list[38], B_list[43]])\n",
    "Bs.index=lambdas\n",
    "Bs.columns=['PC1', 'PC2', 'PC3', 'PC4', 'PC5', 'PC6', 'PC7', 'PC8', 'PC9', 'PC10']\n",
    "Bs.plot()\n",
    "plt.title('Native American PC Values')\n",
    "plt.xscale('log')\n",
    "plt.xlabel('Lambda')\n",
    "plt.ylabel('Parameter Value')\n",
    "plt.legend(loc='lower left')\n",
    "plt.show()"
   ]
  },
  {
   "cell_type": "code",
   "execution_count": 13,
   "metadata": {},
   "outputs": [
    {
     "data": {
      "image/png": "[encoded data removed]",
      "text/plain": [
       "<Figure size 432x288 with 1 Axes>"
      ]
     },
     "metadata": {
      "needs_background": "light"
     },
     "output_type": "display_data"
    }
   ],
   "source": [
    "Bs=pd.DataFrame([B_list[4], B_list[9], B_list[14], B_list[19], B_list[24], B_list[29], B_list[34], B_list[39], B_list[44]])\n",
    "Bs.index=lambdas\n",
    "Bs.columns=['PC1', 'PC2', 'PC3', 'PC4', 'PC5', 'PC6', 'PC7', 'PC8', 'PC9', 'PC10']\n",
    "Bs.plot()\n",
    "plt.title('Oceanian PC Values')\n",
    "plt.xscale('log')\n",
    "plt.xlabel('Lambda')\n",
    "plt.ylabel('Parameter Value')\n",
    "plt.legend(loc='lower left')\n",
    "plt.show()"
   ]
  },
  {
   "cell_type": "markdown",
   "metadata": {},
   "source": [
    "# Deliverable 2"
   ]
  },
  {
   "cell_type": "markdown",
   "metadata": {},
   "source": [
    "Illustrate the effect of the tuning parameter on the cross validation error by generating a plot with the 𝑦-axis as CV(5) error, and the 𝑥-axis the corresponding log-scaled tuning parameter value log10(𝜆) that generated the particular CV(5) error. Label both axes in the plot. Without the log scaling of the tuning parameter 𝜆, the plots will look distorted."
   ]
  },
  {
   "cell_type": "code",
   "execution_count": 14,
   "metadata": {},
   "outputs": [],
   "source": [
    "from math import floor, ceil"
   ]
  },
  {
   "cell_type": "code",
   "execution_count": 15,
   "metadata": {},
   "outputs": [],
   "source": [
    "data=pd.read_csv('TrainingData_N183_p10.csv')"
   ]
  },
  {
   "cell_type": "code",
   "execution_count": 16,
   "metadata": {},
   "outputs": [],
   "source": [
    "data = data.sample(frac=1).reset_index(drop=True)"
   ]
  },
  {
   "cell_type": "code",
   "execution_count": 17,
   "metadata": {},
   "outputs": [],
   "source": [
    "components=data.drop(['Ancestry'], axis=1)\n",
    "y=data['Ancestry']"
   ]
  },
  {
   "cell_type": "code",
   "execution_count": 18,
   "metadata": {},
   "outputs": [],
   "source": [
    "y=y.astype('category')\n",
    "y=pd.get_dummies(y)"
   ]
  },
  {
   "cell_type": "code",
   "execution_count": 7,
   "metadata": {},
   "outputs": [],
   "source": [
    "def standardize_validation(train, val):\n",
    "    for col_name in val.columns:\n",
    "        val[col_name]-=np.mean(train[col_name])\n",
    "        val[col_name]/=np.std(train[col_name])    \n",
    "    return val"
   ]
  },
  {
   "cell_type": "code",
   "execution_count": 8,
   "metadata": {},
   "outputs": [],
   "source": [
    "def cross_validation_split(data, y, fold_no):    \n",
    "    if fold_no==0 or fold_no==1 or fold_no==2:\n",
    "        val_data=data.sample(ceil(len(data)*0.2))\n",
    "        train_data=data.drop(val_data.index)\n",
    "        val_labels=y.iloc[val_data.index]\n",
    "        train_labels=y.drop(val_data.index)\n",
    "        \n",
    "        val_data=standardize_validation(train_data, val_data)\n",
    "        \n",
    "        train_data=standardize(train_data)\n",
    "        \n",
    "        return train_data, train_labels, val_data, val_labels\n",
    "    else:\n",
    "        val_data=data.sample(floor(len(data)*0.2))\n",
    "        train_data=data.drop(val_data.index)\n",
    "        val_labels=y.iloc[val_data.index]\n",
    "        train_labels=y.drop(val_data.index)\n",
    "        \n",
    "        val_data=standardize_validation(train_data, val_data)\n",
    "        \n",
    "        train_data=standardize(train_data)\n",
    "        \n",
    "        return train_data, train_labels, val_data, val_labels"
   ]
  },
  {
   "cell_type": "code",
   "execution_count": 4,
   "metadata": {},
   "outputs": [],
   "source": [
    "def predict(val, B):\n",
    "    prediction_product=np.dot(val, B[1:])\n",
    "    bias=B[0, :]\n",
    "    prediction_biased=np.add(bias, prediction_product)\n",
    "    prediction_numerator=np.exp(prediction_biased)\n",
    "    prediction_denominator=np.sum(np.exp(prediction_biased), axis=0)\n",
    "    predictions=prediction_numerator/prediction_denominator\n",
    "    return predictions"
   ]
  },
  {
   "cell_type": "code",
   "execution_count": 5,
   "metadata": {},
   "outputs": [],
   "source": [
    "def compute_categorical_crossentropy(y_true, y_pred, epsilon=1e-9):\n",
    "    y_pred=np.clip(y_pred, epsilon, 1-epsilon)\n",
    "    N=len(y_pred)    \n",
    "    ce=-np.sum(y_true*np.log(predictions))/N\n",
    "    return ce"
   ]
  },
  {
   "cell_type": "code",
   "execution_count": 24,
   "metadata": {},
   "outputs": [
    {
     "data": {
      "application/vnd.jupyter.widget-view+json": {
       "model_id": "a948462a324b432fb6ae2f01fa58fde7",
       "version_major": 2,
       "version_minor": 0
      },
      "text/plain": [
       "HBox(children=(FloatProgress(value=0.0, max=5.0), HTML(value='')))"
      ]
     },
     "metadata": {},
     "output_type": "display_data"
    },
    {
     "data": {
      "application/vnd.jupyter.widget-view+json": {
       "model_id": "a9d4327bc71d4322a08951ec6ee0f6be",
       "version_major": 2,
       "version_minor": 0
      },
      "text/plain": [
       "HBox(children=(FloatProgress(value=0.0, max=9.0), HTML(value='')))"
      ]
     },
     "metadata": {},
     "output_type": "display_data"
    },
    {
     "data": {
      "application/vnd.jupyter.widget-view+json": {
       "model_id": "8432710bf14f4a6386b55042310cfd1f",
       "version_major": 2,
       "version_minor": 0
      },
      "text/plain": [
       "HBox(children=(FloatProgress(value=0.0, max=10000.0), HTML(value='')))"
      ]
     },
     "metadata": {},
     "output_type": "display_data"
    },
    {
     "name": "stdout",
     "output_type": "stream",
     "text": [
      "\n"
     ]
    },
    {
     "data": {
      "application/vnd.jupyter.widget-view+json": {
       "model_id": "678422ce1b3046a5875a8249e1ea34bb",
       "version_major": 2,
       "version_minor": 0
      },
      "text/plain": [
       "HBox(children=(FloatProgress(value=0.0, max=10000.0), HTML(value='')))"
      ]
     },
     "metadata": {},
     "output_type": "display_data"
    },
    {
     "name": "stdout",
     "output_type": "stream",
     "text": [
      "\n"
     ]
    },
    {
     "data": {
      "application/vnd.jupyter.widget-view+json": {
       "model_id": "88cefc0df8f341539904c88c6b20edc7",
       "version_major": 2,
       "version_minor": 0
      },
      "text/plain": [
       "HBox(children=(FloatProgress(value=0.0, max=10000.0), HTML(value='')))"
      ]
     },
     "metadata": {},
     "output_type": "display_data"
    },
    {
     "name": "stdout",
     "output_type": "stream",
     "text": [
      "\n"
     ]
    },
    {
     "data": {
      "application/vnd.jupyter.widget-view+json": {
       "model_id": "e283d18962224bcfb8b3ca03820336b3",
       "version_major": 2,
       "version_minor": 0
      },
      "text/plain": [
       "HBox(children=(FloatProgress(value=0.0, max=10000.0), HTML(value='')))"
      ]
     },
     "metadata": {},
     "output_type": "display_data"
    },
    {
     "name": "stdout",
     "output_type": "stream",
     "text": [
      "\n"
     ]
    },
    {
     "data": {
      "application/vnd.jupyter.widget-view+json": {
       "model_id": "e44aa4eac4cc48bd9f7fcb742c8063e4",
       "version_major": 2,
       "version_minor": 0
      },
      "text/plain": [
       "HBox(children=(FloatProgress(value=0.0, max=10000.0), HTML(value='')))"
      ]
     },
     "metadata": {},
     "output_type": "display_data"
    },
    {
     "name": "stdout",
     "output_type": "stream",
     "text": [
      "\n"
     ]
    },
    {
     "data": {
      "application/vnd.jupyter.widget-view+json": {
       "model_id": "e50c3ffa83294af398f4c69e351e488f",
       "version_major": 2,
       "version_minor": 0
      },
      "text/plain": [
       "HBox(children=(FloatProgress(value=0.0, max=10000.0), HTML(value='')))"
      ]
     },
     "metadata": {},
     "output_type": "display_data"
    },
    {
     "name": "stdout",
     "output_type": "stream",
     "text": [
      "\n"
     ]
    },
    {
     "data": {
      "application/vnd.jupyter.widget-view+json": {
       "model_id": "b2dd6e7f10234a18afa5e5a54cf9cc53",
       "version_major": 2,
       "version_minor": 0
      },
      "text/plain": [
       "HBox(children=(FloatProgress(value=0.0, max=10000.0), HTML(value='')))"
      ]
     },
     "metadata": {},
     "output_type": "display_data"
    },
    {
     "name": "stdout",
     "output_type": "stream",
     "text": [
      "\n"
     ]
    },
    {
     "data": {
      "application/vnd.jupyter.widget-view+json": {
       "model_id": "6bf497a6b9c144b390e5816303d9bedd",
       "version_major": 2,
       "version_minor": 0
      },
      "text/plain": [
       "HBox(children=(FloatProgress(value=0.0, max=10000.0), HTML(value='')))"
      ]
     },
     "metadata": {},
     "output_type": "display_data"
    },
    {
     "name": "stdout",
     "output_type": "stream",
     "text": [
      "\n"
     ]
    },
    {
     "data": {
      "application/vnd.jupyter.widget-view+json": {
       "model_id": "bdb2e7f248564f20842477bca05030e7",
       "version_major": 2,
       "version_minor": 0
      },
      "text/plain": [
       "HBox(children=(FloatProgress(value=0.0, max=10000.0), HTML(value='')))"
      ]
     },
     "metadata": {},
     "output_type": "display_data"
    },
    {
     "name": "stdout",
     "output_type": "stream",
     "text": [
      "\n",
      "\n"
     ]
    },
    {
     "data": {
      "application/vnd.jupyter.widget-view+json": {
       "model_id": "59c25860413147e8b7cdccda2c87b124",
       "version_major": 2,
       "version_minor": 0
      },
      "text/plain": [
       "HBox(children=(FloatProgress(value=0.0, max=9.0), HTML(value='')))"
      ]
     },
     "metadata": {},
     "output_type": "display_data"
    },
    {
     "data": {
      "application/vnd.jupyter.widget-view+json": {
       "model_id": "77c39c8853db466f8a1155725b75ed23",
       "version_major": 2,
       "version_minor": 0
      },
      "text/plain": [
       "HBox(children=(FloatProgress(value=0.0, max=10000.0), HTML(value='')))"
      ]
     },
     "metadata": {},
     "output_type": "display_data"
    },
    {
     "name": "stdout",
     "output_type": "stream",
     "text": [
      "\n"
     ]
    },
    {
     "data": {
      "application/vnd.jupyter.widget-view+json": {
       "model_id": "65774477d63f4843bb6e2dea92bb5e02",
       "version_major": 2,
       "version_minor": 0
      },
      "text/plain": [
       "HBox(children=(FloatProgress(value=0.0, max=10000.0), HTML(value='')))"
      ]
     },
     "metadata": {},
     "output_type": "display_data"
    },
    {
     "name": "stdout",
     "output_type": "stream",
     "text": [
      "\n"
     ]
    },
    {
     "data": {
      "application/vnd.jupyter.widget-view+json": {
       "model_id": "01bbe975353b42c5a3f2994b26c8c1c4",
       "version_major": 2,
       "version_minor": 0
      },
      "text/plain": [
       "HBox(children=(FloatProgress(value=0.0, max=10000.0), HTML(value='')))"
      ]
     },
     "metadata": {},
     "output_type": "display_data"
    },
    {
     "name": "stdout",
     "output_type": "stream",
     "text": [
      "\n"
     ]
    },
    {
     "data": {
      "application/vnd.jupyter.widget-view+json": {
       "model_id": "16be5cd2473c49bf849bef2f5d6b700d",
       "version_major": 2,
       "version_minor": 0
      },
      "text/plain": [
       "HBox(children=(FloatProgress(value=0.0, max=10000.0), HTML(value='')))"
      ]
     },
     "metadata": {},
     "output_type": "display_data"
    },
    {
     "name": "stdout",
     "output_type": "stream",
     "text": [
      "\n"
     ]
    },
    {
     "data": {
      "application/vnd.jupyter.widget-view+json": {
       "model_id": "74dbe2851d8a49f58d5b3a947179f5c1",
       "version_major": 2,
       "version_minor": 0
      },
      "text/plain": [
       "HBox(children=(FloatProgress(value=0.0, max=10000.0), HTML(value='')))"
      ]
     },
     "metadata": {},
     "output_type": "display_data"
    },
    {
     "name": "stdout",
     "output_type": "stream",
     "text": [
      "\n"
     ]
    },
    {
     "data": {
      "application/vnd.jupyter.widget-view+json": {
       "model_id": "5aeded3e204044a8980eacaec895e1dc",
       "version_major": 2,
       "version_minor": 0
      },
      "text/plain": [
       "HBox(children=(FloatProgress(value=0.0, max=10000.0), HTML(value='')))"
      ]
     },
     "metadata": {},
     "output_type": "display_data"
    },
    {
     "name": "stdout",
     "output_type": "stream",
     "text": [
      "\n"
     ]
    },
    {
     "data": {
      "application/vnd.jupyter.widget-view+json": {
       "model_id": "2a3969b9fe1542a29fd458b80fd6bdad",
       "version_major": 2,
       "version_minor": 0
      },
      "text/plain": [
       "HBox(children=(FloatProgress(value=0.0, max=10000.0), HTML(value='')))"
      ]
     },
     "metadata": {},
     "output_type": "display_data"
    },
    {
     "name": "stdout",
     "output_type": "stream",
     "text": [
      "\n"
     ]
    },
    {
     "data": {
      "application/vnd.jupyter.widget-view+json": {
       "model_id": "e996a719cbec489497793b6622666058",
       "version_major": 2,
       "version_minor": 0
      },
      "text/plain": [
       "HBox(children=(FloatProgress(value=0.0, max=10000.0), HTML(value='')))"
      ]
     },
     "metadata": {},
     "output_type": "display_data"
    },
    {
     "name": "stdout",
     "output_type": "stream",
     "text": [
      "\n"
     ]
    },
    {
     "data": {
      "application/vnd.jupyter.widget-view+json": {
       "model_id": "808cd476815d453298ef1755714cb481",
       "version_major": 2,
       "version_minor": 0
      },
      "text/plain": [
       "HBox(children=(FloatProgress(value=0.0, max=10000.0), HTML(value='')))"
      ]
     },
     "metadata": {},
     "output_type": "display_data"
    },
    {
     "name": "stdout",
     "output_type": "stream",
     "text": [
      "\n",
      "\n"
     ]
    },
    {
     "data": {
      "application/vnd.jupyter.widget-view+json": {
       "model_id": "8ea76a4a607a4698840a2fd33be0b8e1",
       "version_major": 2,
       "version_minor": 0
      },
      "text/plain": [
       "HBox(children=(FloatProgress(value=0.0, max=9.0), HTML(value='')))"
      ]
     },
     "metadata": {},
     "output_type": "display_data"
    },
    {
     "data": {
      "application/vnd.jupyter.widget-view+json": {
       "model_id": "c5ecee66801a4d5d8b91aabbb2b12edd",
       "version_major": 2,
       "version_minor": 0
      },
      "text/plain": [
       "HBox(children=(FloatProgress(value=0.0, max=10000.0), HTML(value='')))"
      ]
     },
     "metadata": {},
     "output_type": "display_data"
    },
    {
     "name": "stdout",
     "output_type": "stream",
     "text": [
      "\n"
     ]
    },
    {
     "data": {
      "application/vnd.jupyter.widget-view+json": {
       "model_id": "1a8043c8fa4148b7a8e421a88c5ab4be",
       "version_major": 2,
       "version_minor": 0
      },
      "text/plain": [
       "HBox(children=(FloatProgress(value=0.0, max=10000.0), HTML(value='')))"
      ]
     },
     "metadata": {},
     "output_type": "display_data"
    },
    {
     "name": "stdout",
     "output_type": "stream",
     "text": [
      "\n"
     ]
    },
    {
     "data": {
      "application/vnd.jupyter.widget-view+json": {
       "model_id": "d8b34dadffec4d82adb1e30d47f95fc2",
       "version_major": 2,
       "version_minor": 0
      },
      "text/plain": [
       "HBox(children=(FloatProgress(value=0.0, max=10000.0), HTML(value='')))"
      ]
     },
     "metadata": {},
     "output_type": "display_data"
    },
    {
     "name": "stdout",
     "output_type": "stream",
     "text": [
      "\n"
     ]
    },
    {
     "data": {
      "application/vnd.jupyter.widget-view+json": {
       "model_id": "861c7fa37d584e208df6cdc68d59ebbf",
       "version_major": 2,
       "version_minor": 0
      },
      "text/plain": [
       "HBox(children=(FloatProgress(value=0.0, max=10000.0), HTML(value='')))"
      ]
     },
     "metadata": {},
     "output_type": "display_data"
    },
    {
     "name": "stdout",
     "output_type": "stream",
     "text": [
      "\n"
     ]
    },
    {
     "data": {
      "application/vnd.jupyter.widget-view+json": {
       "model_id": "221f49b0b30c4cb98d4c3bafaabe9cd0",
       "version_major": 2,
       "version_minor": 0
      },
      "text/plain": [
       "HBox(children=(FloatProgress(value=0.0, max=10000.0), HTML(value='')))"
      ]
     },
     "metadata": {},
     "output_type": "display_data"
    },
    {
     "name": "stdout",
     "output_type": "stream",
     "text": [
      "\n"
     ]
    },
    {
     "data": {
      "application/vnd.jupyter.widget-view+json": {
       "model_id": "9961d3e0703a4fd0bb5dc98a09f3e5ba",
       "version_major": 2,
       "version_minor": 0
      },
      "text/plain": [
       "HBox(children=(FloatProgress(value=0.0, max=10000.0), HTML(value='')))"
      ]
     },
     "metadata": {},
     "output_type": "display_data"
    },
    {
     "name": "stdout",
     "output_type": "stream",
     "text": [
      "\n"
     ]
    },
    {
     "data": {
      "application/vnd.jupyter.widget-view+json": {
       "model_id": "735b35b361ec48d48eb8cfcfb5292666",
       "version_major": 2,
       "version_minor": 0
      },
      "text/plain": [
       "HBox(children=(FloatProgress(value=0.0, max=10000.0), HTML(value='')))"
      ]
     },
     "metadata": {},
     "output_type": "display_data"
    },
    {
     "name": "stdout",
     "output_type": "stream",
     "text": [
      "\n"
     ]
    },
    {
     "data": {
      "application/vnd.jupyter.widget-view+json": {
       "model_id": "9673c0936ad44ada8b9cba5a61a1750b",
       "version_major": 2,
       "version_minor": 0
      },
      "text/plain": [
       "HBox(children=(FloatProgress(value=0.0, max=10000.0), HTML(value='')))"
      ]
     },
     "metadata": {},
     "output_type": "display_data"
    },
    {
     "name": "stdout",
     "output_type": "stream",
     "text": [
      "\n"
     ]
    },
    {
     "data": {
      "application/vnd.jupyter.widget-view+json": {
       "model_id": "fad5bc73ba0b4754b64e1b95ad83a583",
       "version_major": 2,
       "version_minor": 0
      },
      "text/plain": [
       "HBox(children=(FloatProgress(value=0.0, max=10000.0), HTML(value='')))"
      ]
     },
     "metadata": {},
     "output_type": "display_data"
    },
    {
     "name": "stdout",
     "output_type": "stream",
     "text": [
      "\n",
      "\n"
     ]
    },
    {
     "data": {
      "application/vnd.jupyter.widget-view+json": {
       "model_id": "0e3c442ea9b2405b9d9c90ff4c7aa262",
       "version_major": 2,
       "version_minor": 0
      },
      "text/plain": [
       "HBox(children=(FloatProgress(value=0.0, max=9.0), HTML(value='')))"
      ]
     },
     "metadata": {},
     "output_type": "display_data"
    },
    {
     "data": {
      "application/vnd.jupyter.widget-view+json": {
       "model_id": "bc4471ac665647afb1523cfd413d2d43",
       "version_major": 2,
       "version_minor": 0
      },
      "text/plain": [
       "HBox(children=(FloatProgress(value=0.0, max=10000.0), HTML(value='')))"
      ]
     },
     "metadata": {},
     "output_type": "display_data"
    },
    {
     "name": "stdout",
     "output_type": "stream",
     "text": [
      "\n"
     ]
    },
    {
     "data": {
      "application/vnd.jupyter.widget-view+json": {
       "model_id": "4fcbdc3d85bc47edbdfa89e2246231a2",
       "version_major": 2,
       "version_minor": 0
      },
      "text/plain": [
       "HBox(children=(FloatProgress(value=0.0, max=10000.0), HTML(value='')))"
      ]
     },
     "metadata": {},
     "output_type": "display_data"
    },
    {
     "name": "stdout",
     "output_type": "stream",
     "text": [
      "\n"
     ]
    },
    {
     "data": {
      "application/vnd.jupyter.widget-view+json": {
       "model_id": "6e55f5dfa164495b986bbd1337e75445",
       "version_major": 2,
       "version_minor": 0
      },
      "text/plain": [
       "HBox(children=(FloatProgress(value=0.0, max=10000.0), HTML(value='')))"
      ]
     },
     "metadata": {},
     "output_type": "display_data"
    },
    {
     "name": "stdout",
     "output_type": "stream",
     "text": [
      "\n"
     ]
    },
    {
     "data": {
      "application/vnd.jupyter.widget-view+json": {
       "model_id": "ab07ce4ef72a4ff0a7c2f2816329170d",
       "version_major": 2,
       "version_minor": 0
      },
      "text/plain": [
       "HBox(children=(FloatProgress(value=0.0, max=10000.0), HTML(value='')))"
      ]
     },
     "metadata": {},
     "output_type": "display_data"
    },
    {
     "name": "stdout",
     "output_type": "stream",
     "text": [
      "\n"
     ]
    },
    {
     "data": {
      "application/vnd.jupyter.widget-view+json": {
       "model_id": "acddc511a45e4bb898fdc4ec6c194538",
       "version_major": 2,
       "version_minor": 0
      },
      "text/plain": [
       "HBox(children=(FloatProgress(value=0.0, max=10000.0), HTML(value='')))"
      ]
     },
     "metadata": {},
     "output_type": "display_data"
    },
    {
     "name": "stdout",
     "output_type": "stream",
     "text": [
      "\n"
     ]
    },
    {
     "data": {
      "application/vnd.jupyter.widget-view+json": {
       "model_id": "e59be6fa167e4c8996a13c7a15b4d908",
       "version_major": 2,
       "version_minor": 0
      },
      "text/plain": [
       "HBox(children=(FloatProgress(value=0.0, max=10000.0), HTML(value='')))"
      ]
     },
     "metadata": {},
     "output_type": "display_data"
    },
    {
     "name": "stdout",
     "output_type": "stream",
     "text": [
      "\n"
     ]
    },
    {
     "data": {
      "application/vnd.jupyter.widget-view+json": {
       "model_id": "dfd4bb71ce5149d783602e1d2be04ed6",
       "version_major": 2,
       "version_minor": 0
      },
      "text/plain": [
       "HBox(children=(FloatProgress(value=0.0, max=10000.0), HTML(value='')))"
      ]
     },
     "metadata": {},
     "output_type": "display_data"
    },
    {
     "name": "stdout",
     "output_type": "stream",
     "text": [
      "\n"
     ]
    },
    {
     "data": {
      "application/vnd.jupyter.widget-view+json": {
       "model_id": "19ff37388ba54f5e8b3472efbe511681",
       "version_major": 2,
       "version_minor": 0
      },
      "text/plain": [
       "HBox(children=(FloatProgress(value=0.0, max=10000.0), HTML(value='')))"
      ]
     },
     "metadata": {},
     "output_type": "display_data"
    },
    {
     "name": "stdout",
     "output_type": "stream",
     "text": [
      "\n"
     ]
    },
    {
     "data": {
      "application/vnd.jupyter.widget-view+json": {
       "model_id": "b0b5515c123d42f8ac61e07a85aa3341",
       "version_major": 2,
       "version_minor": 0
      },
      "text/plain": [
       "HBox(children=(FloatProgress(value=0.0, max=10000.0), HTML(value='')))"
      ]
     },
     "metadata": {},
     "output_type": "display_data"
    },
    {
     "name": "stdout",
     "output_type": "stream",
     "text": [
      "\n",
      "\n"
     ]
    },
    {
     "data": {
      "application/vnd.jupyter.widget-view+json": {
       "model_id": "904555117ef04f9e8162cd5b0759eed1",
       "version_major": 2,
       "version_minor": 0
      },
      "text/plain": [
       "HBox(children=(FloatProgress(value=0.0, max=9.0), HTML(value='')))"
      ]
     },
     "metadata": {},
     "output_type": "display_data"
    },
    {
     "data": {
      "application/vnd.jupyter.widget-view+json": {
       "model_id": "8fb4418a5dfd477d8463cbb451882201",
       "version_major": 2,
       "version_minor": 0
      },
      "text/plain": [
       "HBox(children=(FloatProgress(value=0.0, max=10000.0), HTML(value='')))"
      ]
     },
     "metadata": {},
     "output_type": "display_data"
    },
    {
     "name": "stdout",
     "output_type": "stream",
     "text": [
      "\n"
     ]
    },
    {
     "data": {
      "application/vnd.jupyter.widget-view+json": {
       "model_id": "1b676d6871ae4c70adb4c767d9eaf7ff",
       "version_major": 2,
       "version_minor": 0
      },
      "text/plain": [
       "HBox(children=(FloatProgress(value=0.0, max=10000.0), HTML(value='')))"
      ]
     },
     "metadata": {},
     "output_type": "display_data"
    },
    {
     "name": "stdout",
     "output_type": "stream",
     "text": [
      "\n"
     ]
    },
    {
     "data": {
      "application/vnd.jupyter.widget-view+json": {
       "model_id": "72c38f823b144fc2975e1096249eb705",
       "version_major": 2,
       "version_minor": 0
      },
      "text/plain": [
       "HBox(children=(FloatProgress(value=0.0, max=10000.0), HTML(value='')))"
      ]
     },
     "metadata": {},
     "output_type": "display_data"
    },
    {
     "name": "stdout",
     "output_type": "stream",
     "text": [
      "\n"
     ]
    },
    {
     "data": {
      "application/vnd.jupyter.widget-view+json": {
       "model_id": "d8a3a7504c454925981fe3f10fc6f098",
       "version_major": 2,
       "version_minor": 0
      },
      "text/plain": [
       "HBox(children=(FloatProgress(value=0.0, max=10000.0), HTML(value='')))"
      ]
     },
     "metadata": {},
     "output_type": "display_data"
    },
    {
     "name": "stdout",
     "output_type": "stream",
     "text": [
      "\n"
     ]
    },
    {
     "data": {
      "application/vnd.jupyter.widget-view+json": {
       "model_id": "1d7c8a67f7d449b8a3947ebcff914898",
       "version_major": 2,
       "version_minor": 0
      },
      "text/plain": [
       "HBox(children=(FloatProgress(value=0.0, max=10000.0), HTML(value='')))"
      ]
     },
     "metadata": {},
     "output_type": "display_data"
    },
    {
     "name": "stdout",
     "output_type": "stream",
     "text": [
      "\n"
     ]
    },
    {
     "data": {
      "application/vnd.jupyter.widget-view+json": {
       "model_id": "e66caf4cb3114a0d984266674ac1f144",
       "version_major": 2,
       "version_minor": 0
      },
      "text/plain": [
       "HBox(children=(FloatProgress(value=0.0, max=10000.0), HTML(value='')))"
      ]
     },
     "metadata": {},
     "output_type": "display_data"
    },
    {
     "name": "stdout",
     "output_type": "stream",
     "text": [
      "\n"
     ]
    },
    {
     "data": {
      "application/vnd.jupyter.widget-view+json": {
       "model_id": "d7cf8e24d5644667b471cb8a69a8346b",
       "version_major": 2,
       "version_minor": 0
      },
      "text/plain": [
       "HBox(children=(FloatProgress(value=0.0, max=10000.0), HTML(value='')))"
      ]
     },
     "metadata": {},
     "output_type": "display_data"
    },
    {
     "name": "stdout",
     "output_type": "stream",
     "text": [
      "\n"
     ]
    },
    {
     "data": {
      "application/vnd.jupyter.widget-view+json": {
       "model_id": "45af30cd7cdd4528820d6b2c397eeeb9",
       "version_major": 2,
       "version_minor": 0
      },
      "text/plain": [
       "HBox(children=(FloatProgress(value=0.0, max=10000.0), HTML(value='')))"
      ]
     },
     "metadata": {},
     "output_type": "display_data"
    },
    {
     "name": "stdout",
     "output_type": "stream",
     "text": [
      "\n"
     ]
    },
    {
     "data": {
      "application/vnd.jupyter.widget-view+json": {
       "model_id": "ad215acd58304d2caa24ab6200b631f6",
       "version_major": 2,
       "version_minor": 0
      },
      "text/plain": [
       "HBox(children=(FloatProgress(value=0.0, max=10000.0), HTML(value='')))"
      ]
     },
     "metadata": {},
     "output_type": "display_data"
    },
    {
     "name": "stdout",
     "output_type": "stream",
     "text": [
      "\n",
      "\n",
      "\n"
     ]
    }
   ],
   "source": [
    "lambdas=[1e-4, 1e-3, 1e-2, 1e-1, 1e0, 1e1, 1e2, 1e3, 1e4]\n",
    "ce_list=[]\n",
    "\n",
    "for i in tqdm(range(5)):\n",
    "    train_data=data.drop(['Ancestry'], axis=1)\n",
    "    y=data['Ancestry']\n",
    "    y=pd.get_dummies(y)\n",
    "    train_data, train_labels, val_data, val_labels=cross_validation_split(train_data, y, i)    \n",
    "    train_data=np.array(train_data)\n",
    "    train_labels=np.array(train_labels)\n",
    "    val_data=np.array(val_data)\n",
    "    val_labels=np.array(val_labels)\n",
    "    for lamb in tqdm(lambdas):\n",
    "        B=logistic_regression(train_data, train_labels, lamb)\n",
    "        predictions=predict(val_data, B)\n",
    "        ce=compute_categorical_crossentropy(val_labels, predictions)\n",
    "        ce_list.append(ce)"
   ]
  },
  {
   "cell_type": "code",
   "execution_count": 25,
   "metadata": {},
   "outputs": [],
   "source": [
    "ce_average_list=[]\n",
    "\n",
    "for i in range(9):\n",
    "    ce_average_list.append((ce_list[i]+ce_list[i+9]+ce_list[i+18]+ce_list[i+27]+ce_list[i+36])/5)"
   ]
  },
  {
   "cell_type": "code",
   "execution_count": 27,
   "metadata": {},
   "outputs": [
    {
     "data": {
      "image/png": "[encoded data removed]",
      "text/plain": [
       "<Figure size 432x288 with 1 Axes>"
      ]
     },
     "metadata": {
      "needs_background": "light"
     },
     "output_type": "display_data"
    }
   ],
   "source": [
    "plt.plot(lambdas, ce_average_list)\n",
    "plt.xscale('log')\n",
    "plt.xlabel('Lambda')\n",
    "plt.ylabel('Cross-validation loss')\n",
    "plt.show()"
   ]
  },
  {
   "cell_type": "markdown",
   "metadata": {},
   "source": [
    "# Deliverable 3"
   ]
  },
  {
   "cell_type": "markdown",
   "metadata": {},
   "source": [
    "Indicate the value of 𝜆 value that generated the smallest CV(5) error."
   ]
  },
  {
   "cell_type": "code",
   "execution_count": 29,
   "metadata": {},
   "outputs": [
    {
     "name": "stdout",
     "output_type": "stream",
     "text": [
      "2.3143351830845136\n",
      "4\n"
     ]
    }
   ],
   "source": [
    "print(np.min(ce_average_list))\n",
    "print(np.argmin(ce_average_list))"
   ]
  },
  {
   "cell_type": "markdown",
   "metadata": {},
   "source": [
    "According to these results, even though there is minimal variance between $10^{-4}$ and $1$, the lambda value that produced the lowest loss is 1."
   ]
  },
  {
   "cell_type": "markdown",
   "metadata": {},
   "source": [
    "# Deliverable 4"
   ]
  },
  {
   "cell_type": "markdown",
   "metadata": {},
   "source": [
    "Given the optimal 𝜆, retrain your model on the entire dataset of 𝑁=183 observations to obtain an estimate of the (𝑝+1)×𝐾 model parameter matrix as 𝐁̂ and make predictions of the probability for each of the 𝐾=5 classes for the 111 test individuals located in TestData_N111_p10.csv. Report all six values (probability for each of the 𝐾=5 classes and the most probable ancestry label) for all 111 test individuals."
   ]
  },
  {
   "cell_type": "code",
   "execution_count": 6,
   "metadata": {},
   "outputs": [],
   "source": [
    "data=pd.read_csv('TrainingData_N183_p10.csv')"
   ]
  },
  {
   "cell_type": "code",
   "execution_count": 7,
   "metadata": {},
   "outputs": [],
   "source": [
    "components=data.drop(['Ancestry'], axis=1)\n",
    "y=data['Ancestry']"
   ]
  },
  {
   "cell_type": "code",
   "execution_count": 8,
   "metadata": {},
   "outputs": [],
   "source": [
    "components=standardize(components)\n",
    "components=np.array(components)"
   ]
  },
  {
   "cell_type": "code",
   "execution_count": 9,
   "metadata": {},
   "outputs": [],
   "source": [
    "y=y.astype('category')\n",
    "y=pd.get_dummies(y)\n",
    "Y=np.array(y)"
   ]
  },
  {
   "cell_type": "code",
   "execution_count": 10,
   "metadata": {},
   "outputs": [
    {
     "data": {
      "application/vnd.jupyter.widget-view+json": {
       "model_id": "b3ef176ea37b48f6a3044f5c3d861112",
       "version_major": 2,
       "version_minor": 0
      },
      "text/plain": [
       "HBox(children=(FloatProgress(value=0.0, max=10000.0), HTML(value='')))"
      ]
     },
     "metadata": {},
     "output_type": "display_data"
    },
    {
     "name": "stdout",
     "output_type": "stream",
     "text": [
      "\n"
     ]
    },
    {
     "data": {
      "text/plain": [
       "array([[-0.26024251,  0.58255176, -0.01548264, -0.0639522 , -0.24287442],\n",
       "       [-1.35264373,  0.66753972,  0.07772996,  0.50369293,  0.10368112],\n",
       "       [ 0.10508113,  0.68388189, -1.39760085, -0.05204409,  0.66068191],\n",
       "       [-0.20876493, -0.06136931,  0.29789329, -1.0643503 ,  1.03659125],\n",
       "       [-0.02916587,  1.57166813, -0.06778062, -0.78269575, -0.69202589],\n",
       "       [ 0.14752571, -0.08900116, -0.09920808,  0.01093108,  0.02975245],\n",
       "       [-0.0794061 , -0.16088365,  0.41102129, -0.19924858,  0.02851704],\n",
       "       [-0.11567828,  0.02476661,  0.13723457, -0.01227282, -0.03405007],\n",
       "       [ 0.05596478,  0.06425057, -0.36796512,  0.25356051, -0.00581075],\n",
       "       [ 0.16166374,  0.0227374 , -0.238611  ,  0.19363048, -0.13942061],\n",
       "       [-0.08296518, -0.21875624, -0.00620664,  0.41146683, -0.10353876]])"
      ]
     },
     "execution_count": 10,
     "metadata": {},
     "output_type": "execute_result"
    }
   ],
   "source": [
    "B=logistic_regression(components, Y, 1)\n",
    "B"
   ]
  },
  {
   "cell_type": "code",
   "execution_count": 11,
   "metadata": {},
   "outputs": [],
   "source": [
    "test_data=pd.read_csv('TestData_N111_p10.csv')"
   ]
  },
  {
   "cell_type": "code",
   "execution_count": 12,
   "metadata": {},
   "outputs": [],
   "source": [
    "test_components=test_data.drop(['Ancestry'], axis=1)\n",
    "y_test=test_data['Ancestry']"
   ]
  },
  {
   "cell_type": "code",
   "execution_count": 13,
   "metadata": {},
   "outputs": [],
   "source": [
    "y_test=y_test.astype('category')\n",
    "y_test=pd.get_dummies(y_test)\n",
    "Y_test=np.array(y_test)"
   ]
  },
  {
   "cell_type": "code",
   "execution_count": 19,
   "metadata": {},
   "outputs": [
    {
     "name": "stderr",
     "output_type": "stream",
     "text": [
      "C:\\Users\\mkell\\AppData\\Roaming\\Python\\Python37\\site-packages\\ipykernel_launcher.py:16: SettingWithCopyWarning: \n",
      "A value is trying to be set on a copy of a slice from a DataFrame\n",
      "\n",
      "See the caveats in the documentation: https://pandas.pydata.org/pandas-docs/stable/user_guide/indexing.html#returning-a-view-versus-a-copy\n",
      "  app.launch_new_instance()\n",
      "C:\\Users\\mkell\\Anaconda3\\lib\\site-packages\\pandas\\core\\indexing.py:671: SettingWithCopyWarning: \n",
      "A value is trying to be set on a copy of a slice from a DataFrame\n",
      "\n",
      "See the caveats in the documentation: https://pandas.pydata.org/pandas-docs/stable/user_guide/indexing.html#returning-a-view-versus-a-copy\n",
      "  self._setitem_with_indexer(indexer, value)\n"
     ]
    },
    {
     "data": {
      "text/html": [
       "<div>\n",
       "<style scoped>\n",
       "    .dataframe tbody tr th:only-of-type {\n",
       "        vertical-align: middle;\n",
       "    }\n",
       "\n",
       "    .dataframe tbody tr th {\n",
       "        vertical-align: top;\n",
       "    }\n",
       "\n",
       "    .dataframe thead th {\n",
       "        text-align: right;\n",
       "    }\n",
       "</style>\n",
       "<table border=\"1\" class=\"dataframe\">\n",
       "  <thead>\n",
       "    <tr style=\"text-align: right;\">\n",
       "      <th></th>\n",
       "      <th>African</th>\n",
       "      <th>EastAsian</th>\n",
       "      <th>European</th>\n",
       "      <th>NativeAmerican</th>\n",
       "      <th>Oceanian</th>\n",
       "      <th>Most Probable Class</th>\n",
       "    </tr>\n",
       "  </thead>\n",
       "  <tbody>\n",
       "    <tr>\n",
       "      <th>0</th>\n",
       "      <td>2.709053e-10</td>\n",
       "      <td>2.050256e-08</td>\n",
       "      <td>2.724742e-06</td>\n",
       "      <td>1.678560e-08</td>\n",
       "      <td>9.999929e-01</td>\n",
       "      <td>Oceanian</td>\n",
       "    </tr>\n",
       "    <tr>\n",
       "      <th>1</th>\n",
       "      <td>1.355748e-11</td>\n",
       "      <td>1.476547e-07</td>\n",
       "      <td>2.117433e-05</td>\n",
       "      <td>9.108926e-01</td>\n",
       "      <td>6.579331e-09</td>\n",
       "      <td>NativeAmerican</td>\n",
       "    </tr>\n",
       "    <tr>\n",
       "      <th>2</th>\n",
       "      <td>1.042102e-09</td>\n",
       "      <td>5.480548e-07</td>\n",
       "      <td>1.778876e-01</td>\n",
       "      <td>1.423416e-07</td>\n",
       "      <td>1.756601e-08</td>\n",
       "      <td>European</td>\n",
       "    </tr>\n",
       "    <tr>\n",
       "      <th>3</th>\n",
       "      <td>7.097208e-02</td>\n",
       "      <td>1.879857e-10</td>\n",
       "      <td>1.550757e-06</td>\n",
       "      <td>1.710020e-08</td>\n",
       "      <td>7.180052e-07</td>\n",
       "      <td>African</td>\n",
       "    </tr>\n",
       "    <tr>\n",
       "      <th>4</th>\n",
       "      <td>6.470023e-11</td>\n",
       "      <td>9.999725e-01</td>\n",
       "      <td>3.760306e-07</td>\n",
       "      <td>1.591745e-06</td>\n",
       "      <td>6.559855e-09</td>\n",
       "      <td>EastAsian</td>\n",
       "    </tr>\n",
       "    <tr>\n",
       "      <th>...</th>\n",
       "      <td>...</td>\n",
       "      <td>...</td>\n",
       "      <td>...</td>\n",
       "      <td>...</td>\n",
       "      <td>...</td>\n",
       "      <td>...</td>\n",
       "    </tr>\n",
       "    <tr>\n",
       "      <th>106</th>\n",
       "      <td>1.986473e-01</td>\n",
       "      <td>4.530548e-10</td>\n",
       "      <td>2.589836e-06</td>\n",
       "      <td>2.911315e-08</td>\n",
       "      <td>3.743605e-08</td>\n",
       "      <td>African</td>\n",
       "    </tr>\n",
       "    <tr>\n",
       "      <th>107</th>\n",
       "      <td>7.334364e-04</td>\n",
       "      <td>2.825450e-09</td>\n",
       "      <td>3.083771e-04</td>\n",
       "      <td>2.699087e-08</td>\n",
       "      <td>1.472772e-08</td>\n",
       "      <td>African</td>\n",
       "    </tr>\n",
       "    <tr>\n",
       "      <th>108</th>\n",
       "      <td>5.050953e-03</td>\n",
       "      <td>1.944463e-09</td>\n",
       "      <td>3.472714e-06</td>\n",
       "      <td>3.197158e-07</td>\n",
       "      <td>2.329585e-08</td>\n",
       "      <td>African</td>\n",
       "    </tr>\n",
       "    <tr>\n",
       "      <th>109</th>\n",
       "      <td>8.901760e-04</td>\n",
       "      <td>1.367616e-10</td>\n",
       "      <td>4.830788e-05</td>\n",
       "      <td>1.294841e-06</td>\n",
       "      <td>3.335880e-08</td>\n",
       "      <td>African</td>\n",
       "    </tr>\n",
       "    <tr>\n",
       "      <th>110</th>\n",
       "      <td>4.038800e-05</td>\n",
       "      <td>5.557865e-07</td>\n",
       "      <td>5.990112e-05</td>\n",
       "      <td>4.397703e-08</td>\n",
       "      <td>4.295993e-09</td>\n",
       "      <td>European</td>\n",
       "    </tr>\n",
       "  </tbody>\n",
       "</table>\n",
       "<p>111 rows × 6 columns</p>\n",
       "</div>"
      ],
      "text/plain": [
       "          African     EastAsian      European  NativeAmerican      Oceanian  \\\n",
       "0    2.709053e-10  2.050256e-08  2.724742e-06    1.678560e-08  9.999929e-01   \n",
       "1    1.355748e-11  1.476547e-07  2.117433e-05    9.108926e-01  6.579331e-09   \n",
       "2    1.042102e-09  5.480548e-07  1.778876e-01    1.423416e-07  1.756601e-08   \n",
       "3    7.097208e-02  1.879857e-10  1.550757e-06    1.710020e-08  7.180052e-07   \n",
       "4    6.470023e-11  9.999725e-01  3.760306e-07    1.591745e-06  6.559855e-09   \n",
       "..            ...           ...           ...             ...           ...   \n",
       "106  1.986473e-01  4.530548e-10  2.589836e-06    2.911315e-08  3.743605e-08   \n",
       "107  7.334364e-04  2.825450e-09  3.083771e-04    2.699087e-08  1.472772e-08   \n",
       "108  5.050953e-03  1.944463e-09  3.472714e-06    3.197158e-07  2.329585e-08   \n",
       "109  8.901760e-04  1.367616e-10  4.830788e-05    1.294841e-06  3.335880e-08   \n",
       "110  4.038800e-05  5.557865e-07  5.990112e-05    4.397703e-08  4.295993e-09   \n",
       "\n",
       "    Most Probable Class  \n",
       "0              Oceanian  \n",
       "1        NativeAmerican  \n",
       "2              European  \n",
       "3               African  \n",
       "4             EastAsian  \n",
       "..                  ...  \n",
       "106             African  \n",
       "107             African  \n",
       "108             African  \n",
       "109             African  \n",
       "110            European  \n",
       "\n",
       "[111 rows x 6 columns]"
      ]
     },
     "execution_count": 19,
     "metadata": {},
     "output_type": "execute_result"
    }
   ],
   "source": [
    "prediction_probs=predict(test_components, B)\n",
    "predictions=np.argmax(prediction_probs, axis=1)\n",
    "\n",
    "prediction_probs=pd.DataFrame(prediction_probs)\n",
    "prediction_probs.columns=['African', 'EastAsian', 'European', 'NativeAmerican', 'Oceanian']\n",
    "\n",
    "predictions=pd.DataFrame(predictions)\n",
    "predictions.columns=['Most Probable Class']\n",
    "\n",
    "results=pd.concat([prediction_probs, predictions], axis=1)\n",
    "\n",
    "classes=['African', 'EastAsian', 'European', 'NativeAmerican', 'Oceanian']\n",
    "\n",
    "i=0\n",
    "for index in results['Most Probable Class']:\n",
    "    results['Most Probable Class'][i]=classes[index]\n",
    "    i+=1\n",
    "results"
   ]
  },
  {
   "cell_type": "markdown",
   "metadata": {},
   "source": [
    "# Deliverable 5"
   ]
  },
  {
   "cell_type": "markdown",
   "metadata": {},
   "source": [
    "How do the class label probabilities differ for the Mexican and African American when compared to the class label probabilities for the unknown samples? Are these class probabilities telling us something about recent history? Explain why these class probabilities are reasonable with respect to knowledge of recent history."
   ]
  },
  {
   "cell_type": "markdown",
   "metadata": {},
   "source": [
    "Each of the unknown samples is distinct. The samples with African American ancestry are often labeled as African or European by our model. The Mexican samples are often labeled Native American or European. This makes sense since a lot of Africans were brought to Europe or the Americas via the slave trade. Also, what we now call \"Mexicans\" were originally Native Americans before Europeans came to their land, so it makes sense that there is a mixture of Native American and European ancestry among modern-day Mexican individuals."
   ]
  },
  {
   "cell_type": "markdown",
   "metadata": {},
   "source": [
    "# Deliverable 7"
   ]
  },
  {
   "cell_type": "markdown",
   "metadata": {},
   "source": [
    "Implement the assignment using statistical or machine learning libraries in a language of your choice. Compare the results with those obtained above, and provide a discussion as to why you believe your results are different if you found them to be\n",
    "different. "
   ]
  },
  {
   "cell_type": "markdown",
   "metadata": {},
   "source": [
    "## Standardization"
   ]
  },
  {
   "cell_type": "code",
   "execution_count": 29,
   "metadata": {},
   "outputs": [],
   "source": [
    "from sklearn.preprocessing import StandardScaler, LabelEncoder\n",
    "from sklearn.linear_model import LogisticRegression"
   ]
  },
  {
   "cell_type": "code",
   "execution_count": 30,
   "metadata": {},
   "outputs": [],
   "source": [
    "data=pd.read_csv('TrainingData_N183_p10.csv')"
   ]
  },
  {
   "cell_type": "code",
   "execution_count": 31,
   "metadata": {},
   "outputs": [],
   "source": [
    "components=data.drop(['Ancestry'], axis=1)\n",
    "y=data['Ancestry']"
   ]
  },
  {
   "cell_type": "code",
   "execution_count": 32,
   "metadata": {},
   "outputs": [],
   "source": [
    "standardize=StandardScaler()\n",
    "\n",
    "X=standardize.fit_transform(components)\n",
    "X=pd.DataFrame(X)"
   ]
  },
  {
   "cell_type": "code",
   "execution_count": 33,
   "metadata": {},
   "outputs": [],
   "source": [
    "X.columns=['PC1', 'PC2', 'PC3', 'PC4', 'PC5', 'PC6', 'PC7', 'PC8', 'PC9', 'PC10']"
   ]
  },
  {
   "cell_type": "code",
   "execution_count": 34,
   "metadata": {},
   "outputs": [],
   "source": [
    "label_encoder=LabelEncoder()\n",
    "\n",
    "Y=label_encoder.fit_transform(y)"
   ]
  },
  {
   "cell_type": "markdown",
   "metadata": {},
   "source": [
    "## Deliverable 1"
   ]
  },
  {
   "cell_type": "markdown",
   "metadata": {},
   "source": [
    "Illustrate the effect of the tuning parameter on the inferred ridge regression coefficients by generating five plots (one for each of the 𝐾=5 ancestry classes) of 10 lines (one for each of the 𝑝=10 features), with the 𝑦-axis as 𝛽̂ 𝑗𝑘, 𝑗=1,2,…,10 for the graph of class 𝑘, and 𝑥-axis the corresponding log-scaled tuning parameter value log10(𝜆) that generated the particular 𝛽̂\n",
    "𝑗𝑘. Label both axes. Without the log scaling of the tuning parameter, the plot will look distorted."
   ]
  },
  {
   "cell_type": "code",
   "execution_count": 35,
   "metadata": {
    "scrolled": true
   },
   "outputs": [],
   "source": [
    "lambdas=[1e-4, 1e-3, 1e-2, 1e-1, 1e0, 1e1, 1e2, 1e3, 1e4]\n",
    "B_list=[]\n",
    "\n",
    "for lamb in lambdas:\n",
    "    logistic_regression=LogisticRegression(C=lamb, max_iter=10000)\n",
    "    logistic_regression.fit(X, Y)\n",
    "    B_T=logistic_regression.coef_\n",
    "    B=np.transpose(B_T)\n",
    "    B_list.append(B[0:, 0])\n",
    "    B_list.append(B[0:, 1])\n",
    "    B_list.append(B[0:, 2])\n",
    "    B_list.append(B[0:, 3])\n",
    "    B_list.append(B[0:, 4])"
   ]
  },
  {
   "cell_type": "code",
   "execution_count": 36,
   "metadata": {},
   "outputs": [
    {
     "data": {
      "image/png": "[encoded data removed]",
      "text/plain": [
       "<Figure size 432x288 with 1 Axes>"
      ]
     },
     "metadata": {
      "needs_background": "light"
     },
     "output_type": "display_data"
    }
   ],
   "source": [
    "Bs=pd.DataFrame([B_list[0], B_list[5], B_list[10], B_list[15], B_list[20], B_list[25], B_list[30], B_list[35], B_list[40]])\n",
    "Bs.index=lambdas\n",
    "Bs.columns=['PC1', 'PC2', 'PC3', 'PC4', 'PC5', 'PC6', 'PC7', 'PC8', 'PC9', 'PC10']\n",
    "Bs.plot()\n",
    "plt.title('African PC Values')\n",
    "plt.xscale('log')\n",
    "plt.xlabel('Lambda')\n",
    "plt.ylabel('Parameter Value')\n",
    "plt.legend(loc='lower left')\n",
    "plt.show()"
   ]
  },
  {
   "cell_type": "code",
   "execution_count": 37,
   "metadata": {},
   "outputs": [
    {
     "data": {
      "image/png": "[encoded data removed]",
      "text/plain": [
       "<Figure size 432x288 with 1 Axes>"
      ]
     },
     "metadata": {
      "needs_background": "light"
     },
     "output_type": "display_data"
    }
   ],
   "source": [
    "Bs=pd.DataFrame([B_list[1], B_list[6], B_list[11], B_list[16], B_list[21], B_list[26], B_list[31], B_list[36], B_list[41]])\n",
    "Bs.index=lambdas\n",
    "Bs.columns=['PC1', 'PC2', 'PC3', 'PC4', 'PC5', 'PC6', 'PC7', 'PC8', 'PC9', 'PC10']\n",
    "Bs.plot()\n",
    "plt.title('East Asian PC Values')\n",
    "plt.xscale('log')\n",
    "plt.xlabel('Lambda')\n",
    "plt.ylabel('Parameter Value')\n",
    "plt.legend(loc='lower left')\n",
    "plt.show()"
   ]
  },
  {
   "cell_type": "code",
   "execution_count": 38,
   "metadata": {},
   "outputs": [
    {
     "data": {
      "image/png": "[encoded data removed]",
      "text/plain": [
       "<Figure size 432x288 with 1 Axes>"
      ]
     },
     "metadata": {
      "needs_background": "light"
     },
     "output_type": "display_data"
    }
   ],
   "source": [
    "Bs=pd.DataFrame([B_list[2], B_list[7], B_list[12], B_list[17], B_list[22], B_list[27], B_list[32], B_list[37], B_list[42]])\n",
    "Bs.index=lambdas\n",
    "Bs.columns=['PC1', 'PC2', 'PC3', 'PC4', 'PC5', 'PC6', 'PC7', 'PC8', 'PC9', 'PC10']\n",
    "Bs.plot()\n",
    "plt.title('European PC Values')\n",
    "plt.xscale('log')\n",
    "plt.xlabel('Lambda')\n",
    "plt.ylabel('Parameter Value')\n",
    "plt.legend(loc='lower left')\n",
    "plt.show()"
   ]
  },
  {
   "cell_type": "code",
   "execution_count": 39,
   "metadata": {},
   "outputs": [
    {
     "data": {
      "image/png": "[encoded data removed]",
      "text/plain": [
       "<Figure size 432x288 with 1 Axes>"
      ]
     },
     "metadata": {
      "needs_background": "light"
     },
     "output_type": "display_data"
    }
   ],
   "source": [
    "Bs=pd.DataFrame([B_list[3], B_list[8], B_list[13], B_list[18], B_list[23], B_list[28], B_list[33], B_list[38], B_list[43]])\n",
    "Bs.index=lambdas\n",
    "Bs.columns=['PC1', 'PC2', 'PC3', 'PC4', 'PC5', 'PC6', 'PC7', 'PC8', 'PC9', 'PC10']\n",
    "Bs.plot()\n",
    "plt.title('Native American PC Values')\n",
    "plt.xscale('log')\n",
    "plt.xlabel('Lambda')\n",
    "plt.ylabel('Parameter Value')\n",
    "plt.legend(loc='lower left')\n",
    "plt.show()"
   ]
  },
  {
   "cell_type": "code",
   "execution_count": 40,
   "metadata": {},
   "outputs": [
    {
     "data": {
      "image/png": "[encoded data removed]",
      "text/plain": [
       "<Figure size 432x288 with 1 Axes>"
      ]
     },
     "metadata": {
      "needs_background": "light"
     },
     "output_type": "display_data"
    }
   ],
   "source": [
    "Bs=pd.DataFrame([B_list[4], B_list[9], B_list[14], B_list[19], B_list[24], B_list[29], B_list[34], B_list[39], B_list[44]])\n",
    "Bs.index=lambdas\n",
    "Bs.columns=['PC1', 'PC2', 'PC3', 'PC4', 'PC5', 'PC6', 'PC7', 'PC8', 'PC9', 'PC10']\n",
    "Bs.plot()\n",
    "plt.title('Oceanian PC Values')\n",
    "plt.xscale('log')\n",
    "plt.xlabel('Lambda')\n",
    "plt.ylabel('Parameter Value')\n",
    "plt.legend(loc='lower left')\n",
    "plt.show()"
   ]
  },
  {
   "cell_type": "markdown",
   "metadata": {},
   "source": [
    "## Deliverable 2 "
   ]
  },
  {
   "cell_type": "markdown",
   "metadata": {},
   "source": [
    "Illustrate the effect of the tuning parameter on the cross validation error by generating a plot with the 𝑦-axis as CV(5) error, and the 𝑥-axis the corresponding log-scaled tuning parameter value log10(𝜆) that generated the particular CV(5) error. Label both axes in the plot. Without the log scaling of the tuning parameter 𝜆, the plots will look distorted."
   ]
  },
  {
   "cell_type": "code",
   "execution_count": 41,
   "metadata": {},
   "outputs": [],
   "source": [
    "from sklearn.model_selection import KFold\n",
    "from sklearn.metrics import log_loss"
   ]
  },
  {
   "cell_type": "code",
   "execution_count": 42,
   "metadata": {},
   "outputs": [],
   "source": [
    "kfold=KFold(n_splits=5, shuffle=True)"
   ]
  },
  {
   "cell_type": "code",
   "execution_count": 43,
   "metadata": {},
   "outputs": [],
   "source": [
    "X=np.asarray(X)\n",
    "Y=np.asarray(Y)"
   ]
  },
  {
   "cell_type": "code",
   "execution_count": 44,
   "metadata": {},
   "outputs": [],
   "source": [
    "loss_list=[]\n",
    "\n",
    "for train, val in kfold.split(X, Y):\n",
    "    for lamb in lambdas:\n",
    "        logistic_regression=LogisticRegression(C=lamb, max_iter=10000)\n",
    "        logistic_regression.fit(X[train], Y[train])\n",
    "        probs=logistic_regression.predict_proba(X[val])\n",
    "        loss=-log_loss(Y[val], probs)\n",
    "        loss_list.append(loss)"
   ]
  },
  {
   "cell_type": "code",
   "execution_count": 45,
   "metadata": {},
   "outputs": [],
   "source": [
    "loss_average_list=[]\n",
    "\n",
    "for i in range(9):\n",
    "    loss_average_list.append((loss_list[i]+loss_list[i+9]+loss_list[i+18]+loss_list[i+27]+loss_list[i+36])/5)"
   ]
  },
  {
   "cell_type": "code",
   "execution_count": 46,
   "metadata": {},
   "outputs": [
    {
     "data": {
      "image/png": "[encoded data removed]",
      "text/plain": [
       "<Figure size 432x288 with 1 Axes>"
      ]
     },
     "metadata": {
      "needs_background": "light"
     },
     "output_type": "display_data"
    }
   ],
   "source": [
    "plt.plot(lambdas, loss_average_list)\n",
    "plt.xscale('log')\n",
    "plt.xlabel('Lambda')\n",
    "plt.ylabel('Cross-validation loss')\n",
    "plt.show()"
   ]
  },
  {
   "cell_type": "markdown",
   "metadata": {},
   "source": [
    "## Deliverable 3"
   ]
  },
  {
   "cell_type": "markdown",
   "metadata": {},
   "source": [
    "Indicate the value of 𝜆 value that generated the smallest CV(5) error."
   ]
  },
  {
   "cell_type": "markdown",
   "metadata": {},
   "source": [
    "It is clear from this plot that a lambda value of $10^{-4}$ produced the lowest cross-validation error."
   ]
  },
  {
   "cell_type": "markdown",
   "metadata": {},
   "source": [
    "## Deliverable 4"
   ]
  },
  {
   "cell_type": "markdown",
   "metadata": {},
   "source": [
    "Given the optimal 𝜆, retrain your model on the entire dataset of 𝑁=183 observations to obtain an estimate of the (𝑝+1)×𝐾 model parameter matrix as 𝐁̂ and make predictions of the probability for each of the 𝐾=5 classes for the 111 test individuals located in TestData_N111_p10.csv. Report all six values (probability for each of the 𝐾=5 classes and the most probable ancestry label) for all 111 test individuals."
   ]
  },
  {
   "cell_type": "code",
   "execution_count": 47,
   "metadata": {},
   "outputs": [],
   "source": [
    "test_data=pd.read_csv('TestData_N111_p10.csv')"
   ]
  },
  {
   "cell_type": "code",
   "execution_count": 48,
   "metadata": {},
   "outputs": [],
   "source": [
    "X_test=test_data.drop(['Ancestry'], axis=1)\n",
    "y_test=test_data['Ancestry']"
   ]
  },
  {
   "cell_type": "code",
   "execution_count": 49,
   "metadata": {},
   "outputs": [],
   "source": [
    "X_test.columns=['PC1', 'PC2', 'PC3', 'PC4', 'PC5', 'PC6', 'PC7', 'PC8', 'PC9', 'PC10']"
   ]
  },
  {
   "cell_type": "code",
   "execution_count": 50,
   "metadata": {},
   "outputs": [],
   "source": [
    "label_encoder=LabelEncoder()\n",
    "\n",
    "Y_test=label_encoder.fit_transform(y_test)"
   ]
  },
  {
   "cell_type": "code",
   "execution_count": 51,
   "metadata": {},
   "outputs": [
    {
     "name": "stdout",
     "output_type": "stream",
     "text": [
      "[[-5.34517556  0.51250203 -0.88016302 -0.29069893  0.17493901 -0.26823935\n",
      "  -0.12000857  0.11485333  0.26402631 -0.08924062]\n",
      " [ 2.68327971  3.43037113 -0.74253943  6.92092164 -0.87918091 -0.76144314\n",
      "  -0.26038133 -1.07242338 -0.18316134 -0.66099446]\n",
      " [ 0.26193942 -6.80243965  2.23722123  0.37217198 -0.11076521  0.78410475\n",
      "   0.4027696  -1.10527509 -0.55563579 -0.17754599]\n",
      " [ 2.2145872   0.18775547 -5.0556616  -3.52272142  0.28276446 -0.20717274\n",
      "  -0.28269151  1.52928788  1.76341433  0.69300383]\n",
      " [ 0.18536922  2.67181101  4.44114282 -3.47967327  0.53224265  0.45275047\n",
      "   0.26031181  0.53355725 -1.28864351  0.23477724]]\n"
     ]
    }
   ],
   "source": [
    "logistic_regression=LogisticRegression(C=1e4, max_iter=10000)\n",
    "logistic_regression.fit(X, Y)\n",
    "print(logistic_regression.coef_)    "
   ]
  },
  {
   "cell_type": "code",
   "execution_count": 52,
   "metadata": {},
   "outputs": [
    {
     "name": "stderr",
     "output_type": "stream",
     "text": [
      "C:\\Users\\mkell\\AppData\\Roaming\\Python\\Python37\\site-packages\\ipykernel_launcher.py:16: SettingWithCopyWarning: \n",
      "A value is trying to be set on a copy of a slice from a DataFrame\n",
      "\n",
      "See the caveats in the documentation: https://pandas.pydata.org/pandas-docs/stable/user_guide/indexing.html#returning-a-view-versus-a-copy\n",
      "  app.launch_new_instance()\n",
      "C:\\Users\\mkell\\Anaconda3\\lib\\site-packages\\pandas\\core\\indexing.py:671: SettingWithCopyWarning: \n",
      "A value is trying to be set on a copy of a slice from a DataFrame\n",
      "\n",
      "See the caveats in the documentation: https://pandas.pydata.org/pandas-docs/stable/user_guide/indexing.html#returning-a-view-versus-a-copy\n",
      "  self._setitem_with_indexer(indexer, value)\n"
     ]
    },
    {
     "data": {
      "text/html": [
       "<div>\n",
       "<style scoped>\n",
       "    .dataframe tbody tr th:only-of-type {\n",
       "        vertical-align: middle;\n",
       "    }\n",
       "\n",
       "    .dataframe tbody tr th {\n",
       "        vertical-align: top;\n",
       "    }\n",
       "\n",
       "    .dataframe thead th {\n",
       "        text-align: right;\n",
       "    }\n",
       "</style>\n",
       "<table border=\"1\" class=\"dataframe\">\n",
       "  <thead>\n",
       "    <tr style=\"text-align: right;\">\n",
       "      <th></th>\n",
       "      <th>African</th>\n",
       "      <th>EastAsian</th>\n",
       "      <th>European</th>\n",
       "      <th>NativeAmerican</th>\n",
       "      <th>Oceanian</th>\n",
       "      <th>Most Probable Class</th>\n",
       "    </tr>\n",
       "  </thead>\n",
       "  <tbody>\n",
       "    <tr>\n",
       "      <th>0</th>\n",
       "      <td>1.235951e-37</td>\n",
       "      <td>4.834428e-36</td>\n",
       "      <td>1.511854e-38</td>\n",
       "      <td>1.819932e-38</td>\n",
       "      <td>1.000000e+00</td>\n",
       "      <td>Oceanian</td>\n",
       "    </tr>\n",
       "    <tr>\n",
       "      <th>1</th>\n",
       "      <td>5.448675e-37</td>\n",
       "      <td>4.639147e-26</td>\n",
       "      <td>1.056133e-34</td>\n",
       "      <td>1.000000e+00</td>\n",
       "      <td>9.571173e-29</td>\n",
       "      <td>NativeAmerican</td>\n",
       "    </tr>\n",
       "    <tr>\n",
       "      <th>2</th>\n",
       "      <td>8.985015e-17</td>\n",
       "      <td>7.807963e-11</td>\n",
       "      <td>1.000000e+00</td>\n",
       "      <td>9.686561e-19</td>\n",
       "      <td>4.144839e-15</td>\n",
       "      <td>European</td>\n",
       "    </tr>\n",
       "    <tr>\n",
       "      <th>3</th>\n",
       "      <td>1.000000e+00</td>\n",
       "      <td>2.442264e-38</td>\n",
       "      <td>8.576285e-37</td>\n",
       "      <td>1.253924e-36</td>\n",
       "      <td>4.924071e-21</td>\n",
       "      <td>African</td>\n",
       "    </tr>\n",
       "    <tr>\n",
       "      <th>4</th>\n",
       "      <td>1.203866e-40</td>\n",
       "      <td>1.000000e+00</td>\n",
       "      <td>2.516578e-42</td>\n",
       "      <td>2.312987e-30</td>\n",
       "      <td>4.755529e-38</td>\n",
       "      <td>EastAsian</td>\n",
       "    </tr>\n",
       "    <tr>\n",
       "      <th>...</th>\n",
       "      <td>...</td>\n",
       "      <td>...</td>\n",
       "      <td>...</td>\n",
       "      <td>...</td>\n",
       "      <td>...</td>\n",
       "      <td>...</td>\n",
       "    </tr>\n",
       "    <tr>\n",
       "      <th>106</th>\n",
       "      <td>1.000000e+00</td>\n",
       "      <td>1.048095e-38</td>\n",
       "      <td>1.425641e-36</td>\n",
       "      <td>1.377907e-34</td>\n",
       "      <td>6.991538e-27</td>\n",
       "      <td>African</td>\n",
       "    </tr>\n",
       "    <tr>\n",
       "      <th>107</th>\n",
       "      <td>1.000000e+00</td>\n",
       "      <td>9.467930e-25</td>\n",
       "      <td>5.482763e-20</td>\n",
       "      <td>1.040564e-27</td>\n",
       "      <td>9.035667e-23</td>\n",
       "      <td>African</td>\n",
       "    </tr>\n",
       "    <tr>\n",
       "      <th>108</th>\n",
       "      <td>1.000000e+00</td>\n",
       "      <td>3.628602e-29</td>\n",
       "      <td>4.979066e-32</td>\n",
       "      <td>1.421035e-26</td>\n",
       "      <td>5.685677e-25</td>\n",
       "      <td>African</td>\n",
       "    </tr>\n",
       "    <tr>\n",
       "      <th>109</th>\n",
       "      <td>1.000000e+00</td>\n",
       "      <td>6.414101e-31</td>\n",
       "      <td>1.969233e-21</td>\n",
       "      <td>2.017887e-18</td>\n",
       "      <td>1.019127e-19</td>\n",
       "      <td>African</td>\n",
       "    </tr>\n",
       "    <tr>\n",
       "      <th>110</th>\n",
       "      <td>1.000000e+00</td>\n",
       "      <td>6.478411e-11</td>\n",
       "      <td>3.117931e-16</td>\n",
       "      <td>3.997408e-20</td>\n",
       "      <td>8.313817e-20</td>\n",
       "      <td>African</td>\n",
       "    </tr>\n",
       "  </tbody>\n",
       "</table>\n",
       "<p>111 rows × 6 columns</p>\n",
       "</div>"
      ],
      "text/plain": [
       "          African     EastAsian      European  NativeAmerican      Oceanian  \\\n",
       "0    1.235951e-37  4.834428e-36  1.511854e-38    1.819932e-38  1.000000e+00   \n",
       "1    5.448675e-37  4.639147e-26  1.056133e-34    1.000000e+00  9.571173e-29   \n",
       "2    8.985015e-17  7.807963e-11  1.000000e+00    9.686561e-19  4.144839e-15   \n",
       "3    1.000000e+00  2.442264e-38  8.576285e-37    1.253924e-36  4.924071e-21   \n",
       "4    1.203866e-40  1.000000e+00  2.516578e-42    2.312987e-30  4.755529e-38   \n",
       "..            ...           ...           ...             ...           ...   \n",
       "106  1.000000e+00  1.048095e-38  1.425641e-36    1.377907e-34  6.991538e-27   \n",
       "107  1.000000e+00  9.467930e-25  5.482763e-20    1.040564e-27  9.035667e-23   \n",
       "108  1.000000e+00  3.628602e-29  4.979066e-32    1.421035e-26  5.685677e-25   \n",
       "109  1.000000e+00  6.414101e-31  1.969233e-21    2.017887e-18  1.019127e-19   \n",
       "110  1.000000e+00  6.478411e-11  3.117931e-16    3.997408e-20  8.313817e-20   \n",
       "\n",
       "    Most Probable Class  \n",
       "0              Oceanian  \n",
       "1        NativeAmerican  \n",
       "2              European  \n",
       "3               African  \n",
       "4             EastAsian  \n",
       "..                  ...  \n",
       "106             African  \n",
       "107             African  \n",
       "108             African  \n",
       "109             African  \n",
       "110             African  \n",
       "\n",
       "[111 rows x 6 columns]"
      ]
     },
     "execution_count": 52,
     "metadata": {},
     "output_type": "execute_result"
    }
   ],
   "source": [
    "prediction_probs=logistic_regression.predict_proba(X_test)\n",
    "predictions=np.argmax(prediction_probs, axis=1)\n",
    "\n",
    "prediction_probs=pd.DataFrame(prediction_probs)\n",
    "prediction_probs.columns=['African', 'EastAsian', 'European', 'NativeAmerican', 'Oceanian']\n",
    "\n",
    "predictions=pd.DataFrame(predictions)\n",
    "predictions.columns=['Most Probable Class']\n",
    "\n",
    "results=pd.concat([prediction_probs, predictions], axis=1)\n",
    "\n",
    "classes=['African', 'EastAsian', 'European', 'NativeAmerican', 'Oceanian']\n",
    "\n",
    "i=0\n",
    "for index in results['Most Probable Class']:\n",
    "    results['Most Probable Class'][i]=classes[index]\n",
    "    i+=1\n",
    "\n",
    "results"
   ]
  },
  {
   "cell_type": "markdown",
   "metadata": {},
   "source": [
    "## Deliverable 5"
   ]
  },
  {
   "cell_type": "markdown",
   "metadata": {},
   "source": [
    "How do the class label probabilities differ for the Mexican and African American when compared to the class label probabilities for the unknown samples? Are these class probabilities telling us something about recent history? Explain why these class probabilities are reasonable with respect to knowledge of recent history."
   ]
  },
  {
   "cell_type": "markdown",
   "metadata": {},
   "source": [
    "Each of the unknown samples is distinct. The samples with African American ancestry are often labeled as African or European by our model. The Mexican samples are often labeled Native American or European. This makes sense since a lot of Africans were brought to Europe or the Americas via the slave trade. Also, what we now call \"Mexicans\" were originally Native Americans before Europeans came to their land, so it makes sense that there is a mixture of Native American and European ancestry among modern-day Mexican individuals."
   ]
  }
 ],
 "metadata": {
  "kernelspec": {
   "display_name": "Python [conda env:root] *",
   "language": "python",
   "name": "conda-root-py"
  },
  "language_info": {
   "codemirror_mode": {
    "name": "ipython",
    "version": 3
   },
   "file_extension": ".py",
   "mimetype": "text/x-python",
   "name": "python",
   "nbconvert_exporter": "python",
   "pygments_lexer": "ipython3",
   "version": "3.7.9"
  }
 },
 "nbformat": 4,
 "nbformat_minor": 4
}
